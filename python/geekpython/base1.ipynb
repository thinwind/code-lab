{
 "cells": [
  {
   "cell_type": "code",
   "execution_count": 1,
   "id": "b98b1ee3-63b6-423c-b65e-a17b6d0035e2",
   "metadata": {},
   "outputs": [
    {
     "name": "stdout",
     "output_type": "stream",
     "text": [
      "True\n",
      "True\n"
     ]
    }
   ],
   "source": [
    "d1 = {'name': 'jason', 'age': 20, 'gender': 'male'}\n",
    "d2 = dict({'name': 'jason', 'age': 20, 'gender': 'male'})\n",
    "d3 = dict([('name', 'jason'), ('age', 20), ('gender', 'male')])\n",
    "d4 = dict(name='jason', age=20, gender='male') \n",
    "print(d1 == d2 == d3 ==d4)\n",
    "\n",
    "s1 = {1, 2, 3}\n",
    "s2 = set([1, 2, 3])\n",
    "print(s1 == s2)"
   ]
  },
  {
   "cell_type": "code",
   "execution_count": 1,
   "id": "d283c59f-553b-45f1-a5d5-257368fb14b9",
   "metadata": {
    "tags": []
   },
   "outputs": [
    {
     "name": "stdout",
     "output_type": "stream",
     "text": [
      "null\n"
     ]
    }
   ],
   "source": [
    "d1 = {'name': 'jason', 'age': 20, 'gender': 'male'}\n",
    "print(d1.get('name1','null'))"
   ]
  },
  {
   "cell_type": "code",
   "execution_count": 4,
   "id": "21b91da7-3cfe-40f5-98eb-6fec3219a8b8",
   "metadata": {},
   "outputs": [
    {
     "name": "stdout",
     "output_type": "stream",
     "text": [
      "True\n",
      "False\n",
      "True\n",
      "False\n"
     ]
    }
   ],
   "source": [
    "s={1,2,3}\n",
    "print(1 in s)\n",
    "print(10 in s)\n",
    "\n",
    "d={'name':'jason','age':20}\n",
    "print('name' in d)\n",
    "print('location' in d)"
   ]
  },
  {
   "cell_type": "code",
   "execution_count": 6,
   "id": "497f8b7b-d925-4d32-ab23-693a9a222a30",
   "metadata": {},
   "outputs": [
    {
     "name": "stdout",
     "output_type": "stream",
     "text": [
      "{'name': 'jason', 'age': 20, 'gender': 'male', 'dob': '1999-02-01'}\n",
      "{'name': 'jason', 'age': 20, 'gender': 'male', 'dob': '1994-10-22'}\n",
      "1994-10-22\n",
      "{'name': 'jason', 'age': 20, 'gender': 'male'}\n"
     ]
    }
   ],
   "source": [
    "d = {'name':'jason','age':20}\n",
    "d['gender']='male'\n",
    "d['dob']='1999-02-01'\n",
    "print(d)\n",
    "\n",
    "d['dob'] = '1994-10-22'\n",
    "print(d)\n",
    "\n",
    "print(d.pop('dob'))\n",
    "print(d)"
   ]
  },
  {
   "cell_type": "code",
   "execution_count": 12,
   "id": "2f9d2178-5ae1-4b47-b371-8395f4b1fec0",
   "metadata": {},
   "outputs": [
    {
     "name": "stdout",
     "output_type": "stream",
     "text": [
      "{1, 2, 3, 4}\n",
      "None\n",
      "{2, 3, 4}\n"
     ]
    }
   ],
   "source": [
    "s = {1,2,3}\n",
    "s.add(4)\n",
    "print(s)\n",
    "\n",
    "print(s.remove(1))\n",
    "#KeyError\n",
    "# print(s.remove(5))\n",
    "print(s)"
   ]
  },
  {
   "cell_type": "code",
   "execution_count": 19,
   "id": "9ec77085-ed9a-4083-988e-df101d19f0d1",
   "metadata": {},
   "outputs": [
    {
     "name": "stdout",
     "output_type": "stream",
     "text": [
      "<class 'type'>\n",
      "[('a', 2), ('b', 1), ('c', 10)]\n",
      "<class 'tuple'>\n",
      "<class 'list'>\n",
      "[('b', 1), ('a', 2), ('c', 10)]\n",
      "<class 'dict'>\n"
     ]
    }
   ],
   "source": [
    "d = {'b': 1, 'a': 2, 'c': 10}\n",
    "d_sorted_by_key = sorted(d.items(), key=lambda x: x[0]) # 根据字典键的升序排序\n",
    "d_sorted_by_value = sorted(d.items(), key=lambda x: x[1]) # 根据字典值的升序排序\n",
    "print(type(type(d_sorted_by_key)))\n",
    "print(d_sorted_by_key)\n",
    "print(type(d_sorted_by_key[0]))\n",
    "\n",
    "print(type(d_sorted_by_value))\n",
    "print(d_sorted_by_value)\n",
    "print(type({}))"
   ]
  },
  {
   "cell_type": "code",
   "execution_count": 22,
   "id": "8be69620-4468-44a7-99c6-18eeefbfaeb2",
   "metadata": {},
   "outputs": [
    {
     "name": "stdout",
     "output_type": "stream",
     "text": [
      "time elapse using list: 33.94876199800001\n",
      "time elapse using set: 0.0059102159998474235\n"
     ]
    }
   ],
   "source": [
    "import time\n",
    "id = [x for x in range(0, 100000)]\n",
    "price = [x for x in range(200000, 300000)]\n",
    "products = list(zip(id, price))\n",
    "\n",
    "\n",
    "# set version\n",
    "def find_unique_price_using_set(products):\n",
    "    unique_price_set = set()\n",
    "    for _, price in products:\n",
    "        unique_price_set.add(price)\n",
    "    return len(unique_price_set)        \n",
    "\n",
    "\n",
    "# list version\n",
    "def find_unique_price_using_list(products):\n",
    "    unique_price_list = []\n",
    "    for _, price in products: # A\n",
    "        if price not in unique_price_list: #B\n",
    "            unique_price_list.append(price)\n",
    "    return len(unique_price_list)\n",
    "\n",
    "\n",
    "# 计算列表版本的时间\n",
    "start_using_list = time.perf_counter()\n",
    "find_unique_price_using_list(products)\n",
    "end_using_list = time.perf_counter()\n",
    "print(\"time elapse using list: {}\".format(end_using_list - start_using_list))\n",
    "\n",
    "# 计算集合版本的时间\n",
    "start_using_set = time.perf_counter()\n",
    "find_unique_price_using_set(products)\n",
    "end_using_set = time.perf_counter()\n",
    "print(\"time elapse using set: {}\".format(end_using_set - start_using_set))"
   ]
  },
  {
   "cell_type": "markdown",
   "id": "6c61b705-10fa-4cf5-8f70-db138c3a37de",
   "metadata": {},
   "source": [
    "#### 利用dis分析字节码\n",
    "\n",
    "* 方式1\n",
    "    * pip安装：pip install dis\n",
    "    * 命令行运行结果：python -m dis *.py\n",
    "* 方式2\n",
    "    * 下个cell demo"
   ]
  },
  {
   "cell_type": "code",
   "execution_count": 24,
   "id": "f6e8b499-e85b-433c-ba11-565ce0187a79",
   "metadata": {},
   "outputs": [
    {
     "name": "stdout",
     "output_type": "stream",
     "text": [
      "key\n",
      "  4           0 LOAD_CONST               1 (1)\n",
      "              2 LOAD_CONST               2 (2)\n",
      "              4 LOAD_CONST               3 (('a', 'b'))\n",
      "              6 BUILD_CONST_KEY_MAP      2\n",
      "              8 RETURN_VALUE\n",
      "fun\n",
      "  7           0 LOAD_GLOBAL              0 (dict)\n",
      "              2 LOAD_CONST               1 (1)\n",
      "              4 LOAD_CONST               2 (2)\n",
      "              6 LOAD_CONST               3 (('a', 'b'))\n",
      "              8 BUILD_CONST_KEY_MAP      2\n",
      "             10 CALL_FUNCTION            1\n",
      "             12 RETURN_VALUE\n"
     ]
    }
   ],
   "source": [
    "import dis\n",
    "\n",
    "def make_dict_key():\n",
    "    return {'a':1,'b':2}\n",
    "\n",
    "def make_dict_fun():\n",
    "    return dict({'a':1,'b':2})\n",
    "print('key')\n",
    "dis.dis(make_dict_key)\n",
    "\n",
    "print('fun')\n",
    "dis.dis(make_dict_fun)"
   ]
  },
  {
   "cell_type": "code",
   "execution_count": 2,
   "id": "50ab5bc6-6621-4920-a66e-27f1fcfcf5e6",
   "metadata": {},
   "outputs": [
    {
     "data": {
      "text/plain": [
       "True"
      ]
     },
     "execution_count": 2,
     "metadata": {},
     "output_type": "execute_result"
    }
   ],
   "source": [
    "s1 = 'hello'\n",
    "s2 = \"hello\"\n",
    "s3 = \"\"\"hello\"\"\"\n",
    "s1 == s2 == s3"
   ]
  },
  {
   "cell_type": "code",
   "execution_count": 4,
   "id": "ee694e0c-0ffc-43bd-8be6-ede1a098b585",
   "metadata": {},
   "outputs": [],
   "source": [
    "def calculate_similarity(item1, item2):\n",
    "    \"\"\"\n",
    "    Calculate similarity between two items\n",
    "    Args:\n",
    "        item1: 1st item\n",
    "        item2: 2nd item\n",
    "    Returns:\n",
    "      similarity score between item1 and item2\n",
    "    \"\"\"\n",
    "    pass"
   ]
  },
  {
   "cell_type": "code",
   "execution_count": 5,
   "id": "03b5cc9c-c028-4d32-8e8e-2defbed49163",
   "metadata": {},
   "outputs": [
    {
     "name": "stdout",
     "output_type": "stream",
     "text": [
      "a\n",
      "b\tc\n",
      "5\n"
     ]
    }
   ],
   "source": [
    "s = 'a\\nb\\tc'\n",
    "print(s)\n",
    "\n",
    "print(len(s))"
   ]
  },
  {
   "cell_type": "code",
   "execution_count": 7,
   "id": "f3923e0a-f3a6-4d5a-9adc-9652e251dba5",
   "metadata": {},
   "outputs": [
    {
     "name": "stdout",
     "output_type": "stream",
     "text": [
      "j\n",
      "as\n"
     ]
    }
   ],
   "source": [
    "name = 'jason'\n",
    "print(name[0])\n",
    "\n",
    "print(name[1:3])"
   ]
  },
  {
   "cell_type": "code",
   "execution_count": 9,
   "id": "cc2bce09-cbbd-44a5-8db1-57926ab019dd",
   "metadata": {},
   "outputs": [
    {
     "name": "stdout",
     "output_type": "stream",
     "text": [
      "j\n",
      "a\n",
      "s\n",
      "o\n",
      "n\n"
     ]
    }
   ],
   "source": [
    "for char in name:\n",
    "    print(char)"
   ]
  },
  {
   "cell_type": "code",
   "execution_count": 10,
   "id": "5196d0f1-81da-4fc4-9fc8-9f2641b2783b",
   "metadata": {},
   "outputs": [
    {
     "ename": "TypeError",
     "evalue": "'str' object does not support item assignment",
     "output_type": "error",
     "traceback": [
      "\u001b[0;31m---------------------------------------------------------------------------\u001b[0m",
      "\u001b[0;31mTypeError\u001b[0m                                 Traceback (most recent call last)",
      "\u001b[0;32m<ipython-input-10-b2cadb1da399>\u001b[0m in \u001b[0;36m<module>\u001b[0;34m\u001b[0m\n\u001b[1;32m      1\u001b[0m \u001b[0ms\u001b[0m \u001b[0;34m=\u001b[0m \u001b[0;34m'hello'\u001b[0m\u001b[0;34m\u001b[0m\u001b[0;34m\u001b[0m\u001b[0m\n\u001b[0;32m----> 2\u001b[0;31m \u001b[0ms\u001b[0m\u001b[0;34m[\u001b[0m\u001b[0;36m0\u001b[0m\u001b[0;34m]\u001b[0m \u001b[0;34m=\u001b[0m \u001b[0;34m'H'\u001b[0m\u001b[0;34m\u001b[0m\u001b[0;34m\u001b[0m\u001b[0m\n\u001b[0m",
      "\u001b[0;31mTypeError\u001b[0m: 'str' object does not support item assignment"
     ]
    }
   ],
   "source": [
    "s = 'hello'\n",
    "s[0] = 'H'"
   ]
  },
  {
   "cell_type": "code",
   "execution_count": 15,
   "id": "636a90fe-6dec-4e1c-a6af-aae755825efb",
   "metadata": {},
   "outputs": [
    {
     "name": "stdout",
     "output_type": "stream",
     "text": [
      "Hello\n",
      "Hello\n"
     ]
    }
   ],
   "source": [
    "# s = 'hello'\n",
    "s = 'H' + s[1:]\n",
    "print(s)\n",
    "s = 'hello'\n",
    "s = s.replace('h', 'H')\n",
    "print(s)"
   ]
  },
  {
   "cell_type": "markdown",
   "id": "291cccf3-c722-4e57-aff8-474c3d99eca8",
   "metadata": {},
   "source": [
    "#### '+='字符串优化\n",
    "\n",
    "使用加法操作符'+='的字符串拼接方法，打破了字符串不可变的特性。自从 Python2.5 开始，每次处理字符串的拼接操作时（str1 += str2），Python 首先会检测 str1 还有没有其他的引用。如果没有的话，就会尝试原地扩充字符串 buffer 的大小，而不是重新分配一块内存来创建新的字符串并拷贝。这样的话，下面例子中的时间复杂度就仅为 O(n) 了"
   ]
  },
  {
   "cell_type": "code",
   "execution_count": 18,
   "id": "bfcd4361-5183-4fb0-94a9-88324c5770ed",
   "metadata": {},
   "outputs": [],
   "source": [
    "s = ''\n",
    "for n in range(0, 100000):\n",
    "    s += str(n)\n"
   ]
  },
  {
   "cell_type": "code",
   "execution_count": 19,
   "id": "0fef40c2-e992-444e-a033-888314049258",
   "metadata": {},
   "outputs": [],
   "source": [
    "def query_data(namespace, table):\n",
    "    \"\"\"\n",
    "    given namespace and table, query database to get corresponding\n",
    "    data         \n",
    "    \"\"\"\n",
    "    pass\n",
    "\n",
    "path = 'hive://ads/training_table'\n",
    "namespace = path.split('//')[1].split('/')[0] # 返回'ads'\n",
    "table = path.split('//')[1].split('/')[1] # 返回 'training_table'\n",
    "data = query_data(namespace, table) "
   ]
  },
  {
   "cell_type": "code",
   "execution_count": 22,
   "id": "08f201ac-4eae-4d44-b8fe-a730bf575fb3",
   "metadata": {},
   "outputs": [
    {
     "name": "stdout",
     "output_type": "stream",
     "text": [
      "no data available for person with id: 123, name: jason\n",
      "no data available for person with id: 123, name: jason\n"
     ]
    }
   ],
   "source": [
    "id = '123'\n",
    "name='jason'\n",
    "# older version\n",
    "print('no data available for person with id: %s, name: %s' % (id, name))\n",
    "\n",
    "# recommanded\n",
    "\n",
    "print('no data available for person with id: {}, name: {}'.format(id, name))"
   ]
  },
  {
   "cell_type": "code",
   "execution_count": 23,
   "id": "027cee05-d277-4b41-894d-c4b54f7a9f1c",
   "metadata": {},
   "outputs": [
    {
     "name": "stdout",
     "output_type": "stream",
     "text": [
      "True\n",
      "False\n"
     ]
    }
   ],
   "source": [
    "a = 'string'\n",
    "b = 'string'\n",
    "print(a is b)\n",
    "\n",
    "a = 'string'\n",
    "a += '1'\n",
    "b = 'string1'\n",
    "print(a is b)"
   ]
  },
  {
   "cell_type": "markdown",
   "id": "37b0238b-3409-4154-a794-ee7dd9b19cd9",
   "metadata": {},
   "source": [
    "#### 测试 1000 条数据，方式一\n",
    "\n",
    "```python\n",
    "import time\n",
    "start_time = time.perf_counter()\n",
    "s = ''\n",
    "for n in range(0, 1000):\n",
    "    s += str(n)\n",
    "end_time = time.perf_counter()\n",
    "print('Time elapse: {}'.format(end_time - start_time))\n",
    "```\n",
    "\n",
    "返回结果: Time elapse: 0.0004374515265226364\n",
    "\n",
    "```python\n",
    "#### 测试 1000 条数据，方式二\n",
    "import time\n",
    "start_time = time.perf_counter()\n",
    "s = []\n",
    "for n in range(0, 1000):\n",
    "    s.append(str(n))\n",
    "''.join(s)\n",
    "end_time = time.perf_counter()\n",
    "print('Time elapse: {}'.format(end_time - start_time))\n",
    "```\n",
    "\n",
    "返回结果: Time elapse: 0.0004917513579130173\n",
    "\n",
    "```python\n",
    "#### 测试 1000 条数据，方式三\n",
    "import time\n",
    "start_time = time.perf_counter()\n",
    "s = ''.join(map(str, range(0, 1000)))\n",
    "end_time = time.perf_counter()\n",
    "print('Time elapse: {}'.format(end_time - start_time))\n",
    "```\n",
    "\n",
    "返回结果：Time elapse: 0.00021015387028455734\n",
    "\n",
    "分别测试一百万和一千万条数据，结果如下：   \n",
    "\n",
    "* 100万:\n",
    "    * 方式一：Time elapse: 0.3384760869666934\n",
    "    * 方式二：Time elapse: 0.34538754168897867\n",
    "    * 方式三：Time elapse: 0.2445415174588561\n",
    "\n",
    "\n",
    "* 1000万：\n",
    "    * 方式一：Time elapse: 4.24716751743108\n",
    "    * 方式二：Time elapse: 3.1754934675991535\n",
    "    * 方式三：Time elapse: 2.2939002392813563\n",
    "\n",
    "综上，方式三性能最优，其次是在超过1000万条数据以上时，方式二优于方式一，相反，方式一优于方式二。"
   ]
  },
  {
   "cell_type": "code",
   "execution_count": 27,
   "id": "5b9ff345-a556-4c07-8fe2-66afaf8be759",
   "metadata": {},
   "outputs": [
    {
     "name": "stdout",
     "output_type": "stream",
     "text": [
      "Time elapse: 2.8220254560001194\n",
      "Time elapse: 2.1610253800004102\n",
      "Time elapse: 1.5595207940000364\n"
     ]
    }
   ],
   "source": [
    "#### 测试 1000 条数据，方式一\n",
    "import time\n",
    "start_time = time.perf_counter()\n",
    "s = ''\n",
    "for n in range(0, 10000000):\n",
    "    s += str(n)\n",
    "end_time = time.perf_counter()\n",
    "print('Time elapse: {}'.format(end_time - start_time))\n",
    "\n",
    "#### 测试 1000 条数据，方式二\n",
    "start_time = time.perf_counter()\n",
    "s = []\n",
    "for n in range(0, 10000000):\n",
    "    s.append(str(n))\n",
    "''.join(s)\n",
    "end_time = time.perf_counter()\n",
    "print('Time elapse: {}'.format(end_time - start_time))\n",
    "\n",
    "#### 测试 1000 条数据，方式三\n",
    "start_time = time.perf_counter()\n",
    "s = ''.join(map(str, range(0, 10000000)))\n",
    "end_time = time.perf_counter()\n",
    "print('Time elapse: {}'.format(end_time - start_time))"
   ]
  },
  {
   "cell_type": "markdown",
   "id": "f3ac3bd8-fdd9-41c1-9956-592931f79882",
   "metadata": {},
   "source": [
    "#### 解码字符串\n",
    "\n",
    "给定一个经过编码的字符串，返回它解码后的字符串。\n",
    "编码规则为: k[encoded_string]，表示其中方括号内部的 encoded_string 正好重复 k 次。注意 k 保证为正整数。\n",
    "你可以认为输入字符串总是有效的；输入字符串中没有额外的空格，且输入的方括号总是符合格式要求的。\n",
    "此外，你可以认为原始数据不包含数字，所有的数字只表示重复的次数 k ，例如不会出现像 3a 或 2[4] 的输入\n",
    "\n",
    "示例:\n",
    "s = \"3[a]2[bc]\", 返回 \"aaabcbc\".    \n",
    "s = \"3[a2[c]]\", 返回 \"accaccacc\".    \n",
    "s = \"2[abc]3[cd]ef\", 返回 \"abcabccdcdcdef\""
   ]
  },
  {
   "cell_type": "code",
   "execution_count": 3,
   "id": "e59c3fc4-be66-45fd-8a63-6849aa8958b7",
   "metadata": {},
   "outputs": [
    {
     "name": "stdout",
     "output_type": "stream",
     "text": [
      "abcabc\n",
      "aabcbcbc\n",
      "accaccacc\n",
      "acbaxyzxyzxyzxyzcbaxyzxyzxyzxyzmnacbaxyzxyzxyzxyzcbaxyzxyzxyzxyzmnacbaxyzxyzxyzxyzcbaxyzxyzxyzxyzmn\n",
      "True\n",
      "True\n"
     ]
    }
   ],
   "source": [
    "nums = \"123456789\"\n",
    "\n",
    "class EncodedStr:\n",
    "    def __init__(self,encoded_str):\n",
    "        self.encoded_str = encoded_str\n",
    "        self.sub_str_list=[]\n",
    "    \n",
    "    def parse(self):\n",
    "        times_over = False\n",
    "        sub_times_start = False\n",
    "        depth = 0\n",
    "        cur = 0\n",
    "        for i in range(0,len(self.encoded_str)):\n",
    "            if depth == 0:\n",
    "                if '[' == self.encoded_str[i]:\n",
    "                    self.times = int(self.encoded_str[cur:i])\n",
    "                    cur = i+1\n",
    "                    times_over = True\n",
    "                elif self.encoded_str[i] in nums:\n",
    "                    if times_over and not sub_times_start:\n",
    "                        depth += 1\n",
    "                        sub_times_start = True\n",
    "                        if i > cur:\n",
    "                            self.sub_str_list.append(self.encoded_str[cur:i])\n",
    "                        cur = i\n",
    "                elif ']' == self.encoded_str[i]:\n",
    "                    if cur < i:\n",
    "                        self.sub_str_list.append(self.encoded_str[cur:i])\n",
    "                    cur = i+1\n",
    "            else:\n",
    "                if ']' == self.encoded_str[i]:\n",
    "                    depth -= 1\n",
    "                    if depth == 0:\n",
    "                        es = EncodedStr(self.encoded_str[cur:i+1])\n",
    "                        es.parse()\n",
    "                        self.sub_str_list.append(es)\n",
    "                        cur = i+1\n",
    "    \n",
    "    def restore(self):\n",
    "        result = ''\n",
    "        for sub in self.sub_str_list:\n",
    "            if type(sub) == str:\n",
    "                result += sub\n",
    "            else:\n",
    "                result += sub.restore()\n",
    "        if not self.times or self.times == 1:\n",
    "            return result\n",
    "        else:\n",
    "            return result*self.times\n",
    "\n",
    "class EncodedStrList:\n",
    "    def __init__(self,encoded_str):\n",
    "        self.encoded_str = encoded_str\n",
    "        self.encoded_str_list = []\n",
    "    \n",
    "    def parse(self):\n",
    "        cur = 0\n",
    "        depth = 0\n",
    "        for i in range(0,len(self.encoded_str)):\n",
    "            if '[' == self.encoded_str[i]:\n",
    "                depth += 1\n",
    "            elif ']' == self.encoded_str[i]:\n",
    "                depth -= 1\n",
    "                if depth == 0:\n",
    "                    self.encoded_str_list.append(EncodedStr(self.encoded_str[cur:i+1]))\n",
    "                    cur = i+1\n",
    "                    \n",
    "        for enstr in self.encoded_str_list:\n",
    "            enstr.parse()\n",
    "    \n",
    "    def restore(self):\n",
    "        result = ''\n",
    "        for enstr in self.encoded_str_list:\n",
    "            result += enstr.restore()\n",
    "        return result\n",
    "        \n",
    "s=\"2[abc]\"\n",
    "s2 = \"2[a]3[bc]\"\n",
    "\n",
    "es = EncodedStr(s)\n",
    "es.parse()\n",
    "\n",
    "print(es.restore())\n",
    "\n",
    "es_list = EncodedStrList(s2)\n",
    "es_list.parse()\n",
    "print(es_list.restore())\n",
    "\n",
    "s3 = \"3[a2[c]]\"\n",
    "es3 = EncodedStr(s3)\n",
    "es3.parse()\n",
    "print(es3.restore())\n",
    "\n",
    "s3 = \"3[a2[cba4[xyz]]mn]\"\n",
    "# acbaxyzxyzxyzxyzcbaxyzxyzxyzxyzmnacbaxyzxyzxyzxyzcbaxyzxyzxyzxyzmnacbaxyzxyzxyzxyzcbaxyzxyzxyzxyzmn\n",
    "es3 = EncodedStr(s3)\n",
    "es3.parse()\n",
    "print(es3.restore())\n",
    "print(\"acbaxyzxyzxyzxyzcbaxyzxyzxyzxyzmnacbaxyzxyzxyzxyzcbaxyzxyzxyzxyzmnacbaxyzxyzxyzxyzcbaxyzxyzxyzxyzmn\"== es3.restore())\n",
    "\n",
    "# acbaxyzxyzxyzxyzcbaxyzxyzxyzxyzmnacbaxyzxyzxyzxyzcbaxyzxyzxyzxyzmnacbaxyzxyzxyzxyzcbaxyzxyzxyzxyzmnaccaccacc\n",
    "s4_target = \"acbaxyzxyzxyzxyzcbaxyzxyzxyzxyzmnacbaxyzxyzxyzxyzcbaxyzxyzxyzxyzmnacbaxyzxyzxyzxyzcbaxyzxyzxyzxyzmnaccaccacc\"\n",
    "s4 = \"3[a2[cba4[xyz]]mn]3[a2[c]]\"\n",
    "es4 = EncodedStrList(s4)\n",
    "es4.parse()\n",
    "print(s4_target == es4.restore())\n"
   ]
  },
  {
   "cell_type": "code",
   "execution_count": 1,
   "id": "74b797c1-ee2b-41d4-8f9f-fccf412716a2",
   "metadata": {},
   "outputs": [
    {
     "name": "stdout",
     "output_type": "stream",
     "text": [
      "your name: Syh\n",
      "you are a boy?(y/n) y\n",
      "authorizing...\n",
      "Welcome to the matrix Mr. Syh.\n"
     ]
    }
   ],
   "source": [
    "name = input('your name:')\n",
    "gender = input('you are a boy?(y/n)')\n",
    "\n",
    "welcome_str = 'Welcome to the matrix {prefix} {name}.'\n",
    "welcome_dic = {\n",
    "    'prefix': 'Mr.' if gender == 'y' else 'Mrs',\n",
    "    'name': name\n",
    "}\n",
    "\n",
    "print('authorizing...')\n",
    "print(welcome_str.format(**welcome_dic))"
   ]
  },
  {
   "cell_type": "markdown",
   "id": "c9d84134-ea80-42ab-b57c-31fcc408bfe2",
   "metadata": {},
   "source": [
    "#### NLP 任务的基本步骤，也就是下面的四步\n",
    "\n",
    "1. 读取文件\n",
    "2. 去除所有标点符号和换行符，并把所有大写变成小写\n",
    "3. 合并相同的词，统计每个词出现的频率，并按照词频从大到小排序\n",
    "4. 将结果按行输出到文件 out.txt。"
   ]
  },
  {
   "cell_type": "code",
   "execution_count": 8,
   "id": "d20e29fe-4303-49ca-bb22-7f30e91ad2c7",
   "metadata": {},
   "outputs": [],
   "source": [
    "import re\n",
    "\n",
    "def parse(text):\n",
    "    # 使用正则表达式去除标点符号和换行符\n",
    "    text = re.sub(r'[^\\w ]', ' ', text)\n",
    "\n",
    "    # 转为小写\n",
    "    text = text.lower()\n",
    "    \n",
    "    # 生成所有单词的列表\n",
    "    word_list = text.split(' ')\n",
    "    \n",
    "    # 去除空白单词\n",
    "    word_list = filter(None, word_list)\n",
    "    \n",
    "    # 生成单词和词频的字典\n",
    "    word_cnt = {}\n",
    "    for word in word_list:\n",
    "        if word not in word_cnt:\n",
    "            word_cnt[word] = 0\n",
    "        word_cnt[word] += 1\n",
    "    \n",
    "    # 按照词频排序\n",
    "    sorted_word_cnt = sorted(word_cnt.items(), key=lambda kv: kv[1], reverse=True)\n",
    "    \n",
    "    return sorted_word_cnt\n",
    "\n",
    "with open('in.txt', 'r') as fin:\n",
    "    text = fin.read()\n",
    "\n",
    "word_and_freq = parse(text)\n",
    "\n",
    "with open('out.txt', 'w') as fout:\n",
    "    for word, freq in word_and_freq:\n",
    "        fout.write('{} {}\\n'.format(word, freq))"
   ]
  },
  {
   "cell_type": "code",
   "execution_count": 7,
   "id": "e2b0b424",
   "metadata": {},
   "outputs": [
    {
     "name": "stdout",
     "output_type": "stream",
     "text": [
      "<re.Match object; span=(0, 5), match='Hello'>\n",
      "<re.Match object; span=(6, 11), match='Hello'>\n",
      "hi1 hi2 World!\n",
      "<re.Match object; span=(12, 17), match='World'>\n",
      "Hello Hello hi3!\n"
     ]
    }
   ],
   "source": [
    "import re\n",
    "\n",
    "s= \"Hello Hello World!\"\n",
    "idx = 0\n",
    "def replFun(m):\n",
    "    print(m)\n",
    "    global idx\n",
    "    idx += 1\n",
    "    return \"hi\"+ str(idx)\n",
    "print(re.sub(r'Hello',replFun,s))\n",
    "print(re.sub(r'World',replFun,s))"
   ]
  },
  {
   "cell_type": "code",
   "execution_count": 9,
   "id": "2757f759",
   "metadata": {},
   "outputs": [
    {
     "name": "stdout",
     "output_type": "stream",
     "text": [
      "after json serialization\n",
      "type of params_str = <class 'str'>, params_str = {'symbol': '123456', 'type': 'limit', 'price': 123.4, 'amount': 23}\n",
      "after json deserialization\n",
      "type of original_params = <class 'dict'>, original_params = {'symbol': '123456', 'type': 'limit', 'price': 123.4, 'amount': 23}\n"
     ]
    }
   ],
   "source": [
    "\n",
    "import json\n",
    "\n",
    "params = {\n",
    "    'symbol': '123456',\n",
    "    'type': 'limit',\n",
    "    'price': 123.4,\n",
    "    'amount': 23\n",
    "}\n",
    "\n",
    "params_str = json.dumps(params)\n",
    "\n",
    "print('after json serialization')\n",
    "print('type of params_str = {}, params_str = {}'.format(type(params_str), params))\n",
    "\n",
    "original_params = json.loads(params_str)\n",
    "\n",
    "print('after json deserialization')\n",
    "print('type of original_params = {}, original_params = {}'.format(type(original_params), original_params))"
   ]
  },
  {
   "cell_type": "markdown",
   "id": "2c8b82a2",
   "metadata": {},
   "source": [
    "#### 文件同步任务\n",
    "\n",
    "你应该使用过类似百度网盘、Dropbox 等网盘，但是它们可能空间有限（比如 5GB）。如果有一天，你计划把家里的 100GB 数据传送到公司，可惜你没带 U 盘，于是你想了一个主意：每次从家里向 Dropbox 网盘写入不超过 5GB 的数据，而公司电脑一旦侦测到新数据，就立即拷贝到本地，然后删除网盘上的数据。等家里电脑侦测到本次数据全部传入公司电脑后，再进行下一次写入，直到所有数据都传输过去。    \n",
    "\n",
    "根据这个想法，你计划在家写一个 server.py，在公司写一个 client.py 来实现这个需求。    \n",
    "\n",
    "提示：\n",
    "* 我们假设每个文件都不超过 5GB。\n",
    "* 可以通过写入一个控制文件（config.json）来同步状态。不过，要小心设计状态，这里有可能产生 race condition。\n",
    "* 也可以通过直接侦测文件是否产生，或者是否被删除来同步状态，这是最简单的做法"
   ]
  },
  {
   "cell_type": "code",
   "execution_count": null,
   "id": "fb05916a",
   "metadata": {},
   "outputs": [],
   "source": [
    "# client.py\n",
    "\n",
    "# 我们假设 client 电脑上要输出的文件夹在 BASR_DIR ，网盘的路径在 NET_DIR\n",
    "\n",
    "import os\n",
    "from shutil import copyfile\n",
    "import time\n",
    "\n",
    "BASE_DIR = 'client/'\n",
    "NET_DIR = 'net/'\n",
    "\n",
    "def main():\n",
    "    while True:\n",
    "        filenames = os.listdir(NET_DIR)\n",
    "        for filename in filenames:\n",
    "            print('downloading {} into local disk...'.format(filename))\n",
    "            copyfile(NET_DIR + filename, BASE_DIR + filename)\n",
    "            os.remove(NET_DIR + filename) # 我们需要删除这个文件，网盘会提我们同步这个操作，从而 server 知晓已完成\n",
    "            print('downloaded {} into local disk.'.format(filename))\n",
    "        time.sleep(3)\n",
    "\n",
    "if __name__ == \"__main__\":\n",
    "    main()"
   ]
  },
  {
   "cell_type": "code",
   "execution_count": null,
   "id": "a346e293",
   "metadata": {},
   "outputs": [],
   "source": [
    "# 我们假设 server 电脑上的所有的文件都在 BASR_DIR 中，为了简化不考虑文件夹结构，网盘的路径在 NET_DIR\n",
    "\n",
    "import os\n",
    "from shutil import copyfile\n",
    "import time\n",
    "\n",
    "BASE_DIR = 'server/'\n",
    "NET_DIR = 'net/'\n",
    "\n",
    "def main():\n",
    "    filenames = os.listdir(BASE_DIR)\n",
    "    for i, filename in enumerate(filenames):\n",
    "        print('copying {} into net drive... {}/{}'.format(filename, i + 1, len(filenames)))\n",
    "        copyfile(BASE_DIR + filename, NET_DIR + filename)\n",
    "        print('copied {} into net drive, waiting client complete... {}/{}'.format(filename, i + 1, len(filenames)))\n",
    "\n",
    "        while os.path.exists(NET_DIR + filename):\n",
    "            time.sleep(3)\n",
    "\n",
    "    print('transferred {} into client. {}/{}'.format(filename, i + 1, len(filenames)))\n",
    "\n",
    "if __name__ == \"__main__\":\n",
    "    main()"
   ]
  }
 ],
 "metadata": {
  "interpreter": {
   "hash": "916dbcbb3f70747c44a77c7bcd40155683ae19c65e1c03b4aa3499c5328201f1"
  },
  "kernelspec": {
   "display_name": "Python 3 (ipykernel)",
   "language": "python",
   "name": "python3"
  },
  "language_info": {
   "codemirror_mode": {
    "name": "ipython",
    "version": 3
   },
   "file_extension": ".py",
   "mimetype": "text/x-python",
   "name": "python",
   "nbconvert_exporter": "python",
   "pygments_lexer": "ipython3",
   "version": "3.9.7"
  }
 },
 "nbformat": 4,
 "nbformat_minor": 5
}
